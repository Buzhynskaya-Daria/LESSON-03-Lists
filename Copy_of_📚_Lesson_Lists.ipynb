{
  "cells": [
    {
      "cell_type": "markdown",
      "metadata": {
        "id": "view-in-github",
        "colab_type": "text"
      },
      "source": [
        "<a href=\"https://colab.research.google.com/github/Buzhynskaya-Daria/LESSON-03-Lists/blob/main/Copy_of_%F0%9F%93%9A_Lesson_Lists.ipynb\" target=\"_parent\"><img src=\"https://colab.research.google.com/assets/colab-badge.svg\" alt=\"Open In Colab\"/></a>"
      ]
    },
    {
      "cell_type": "markdown",
      "metadata": {
        "id": "3E2D_PWb6BdA"
      },
      "source": [
        "<div>\n",
        "<img src=\"https://coursereport-s3-production.global.ssl.fastly.net/uploads/school/logo/219/original/CT_LOGO_NEW.jpg\" width=60>\n",
        "</div>\n",
        "\n",
        "#  **Lists**\n",
        "\n",
        "*Be sure to be following along with the lesson page before progressing in this notebook!*"
      ]
    },
    {
      "cell_type": "markdown",
      "source": [
        "## **🛝 Practice Playground** - Section 1\n",
        "In Python, lists are dynamic arrays that can store elements of different types. They are both flexible and easy to use, making them ideal for situations where you need an ordered collection of items. Lists are defined with square brackets [] and can include integers, strings, and even other lists."
      ],
      "metadata": {
        "id": "YOUiHU27y0mn"
      }
    },
    {
      "cell_type": "code",
      "execution_count": 3,
      "metadata": {
        "id": "ZvzqVRb86BdP"
      },
      "outputs": [],
      "source": [
        "# Run this cell!\n",
        "\n",
        "friends = [\"Aaron\", \"Becky\", \"Chad\", \"Dustin\", \"Eric\"]"
      ]
    },
    {
      "cell_type": "code",
      "execution_count": 4,
      "metadata": {
        "id": "YbetqlU_6BdP",
        "colab": {
          "base_uri": "https://localhost:8080/",
          "height": 36
        },
        "outputId": "714f5889-c5be-4b4b-e4fa-36167c4a5f01"
      },
      "outputs": [
        {
          "output_type": "execute_result",
          "data": {
            "text/plain": [
              "'Aaron'"
            ],
            "application/vnd.google.colaboratory.intrinsic+json": {
              "type": "string"
            }
          },
          "metadata": {},
          "execution_count": 4
        }
      ],
      "source": [
        "# Run this cell!\n",
        "\n",
        "friends[0]"
      ]
    },
    {
      "cell_type": "code",
      "source": [
        "# Run this cell!\n",
        "\n",
        "friends[1]"
      ],
      "metadata": {
        "id": "COZbkLYTs56N",
        "colab": {
          "base_uri": "https://localhost:8080/",
          "height": 36
        },
        "outputId": "359df0d7-d9e1-45cc-f0ed-9ee338cc9ac9"
      },
      "execution_count": 5,
      "outputs": [
        {
          "output_type": "execute_result",
          "data": {
            "text/plain": [
              "'Becky'"
            ],
            "application/vnd.google.colaboratory.intrinsic+json": {
              "type": "string"
            }
          },
          "metadata": {},
          "execution_count": 5
        }
      ]
    },
    {
      "cell_type": "code",
      "source": [
        "# Run this cell!\n",
        "\n",
        "friends[2]"
      ],
      "metadata": {
        "id": "nqyQ50bQtpuW",
        "colab": {
          "base_uri": "https://localhost:8080/",
          "height": 36
        },
        "outputId": "deb98391-ae3e-441f-e9a8-adfc82214587"
      },
      "execution_count": 6,
      "outputs": [
        {
          "output_type": "execute_result",
          "data": {
            "text/plain": [
              "'Chad'"
            ],
            "application/vnd.google.colaboratory.intrinsic+json": {
              "type": "string"
            }
          },
          "metadata": {},
          "execution_count": 6
        }
      ]
    },
    {
      "cell_type": "code",
      "source": [
        "# Run this cell!\n",
        "\n",
        "friends[4]"
      ],
      "metadata": {
        "id": "3cHYPeAoLbba",
        "colab": {
          "base_uri": "https://localhost:8080/",
          "height": 36
        },
        "outputId": "949a5b22-a34f-4868-bca9-0d572f754ca0"
      },
      "execution_count": 7,
      "outputs": [
        {
          "output_type": "execute_result",
          "data": {
            "text/plain": [
              "'Eric'"
            ],
            "application/vnd.google.colaboratory.intrinsic+json": {
              "type": "string"
            }
          },
          "metadata": {},
          "execution_count": 7
        }
      ]
    },
    {
      "cell_type": "code",
      "source": [
        "# Run this cell!\n",
        "\n",
        "friends[-1]"
      ],
      "metadata": {
        "id": "ZLe3ZOz7qQ3r",
        "colab": {
          "base_uri": "https://localhost:8080/",
          "height": 36
        },
        "outputId": "ea5d17e5-ffc9-4523-b1b4-42575af43a7f"
      },
      "execution_count": 8,
      "outputs": [
        {
          "output_type": "execute_result",
          "data": {
            "text/plain": [
              "'Eric'"
            ],
            "application/vnd.google.colaboratory.intrinsic+json": {
              "type": "string"
            }
          },
          "metadata": {},
          "execution_count": 8
        }
      ]
    },
    {
      "cell_type": "code",
      "source": [
        "# Run this cell!\n",
        "\n",
        "friends[0:2]"
      ],
      "metadata": {
        "id": "NkJkbyTvmAZC",
        "colab": {
          "base_uri": "https://localhost:8080/"
        },
        "outputId": "3156eb1e-5757-4aaa-f70e-820d8b386313"
      },
      "execution_count": 9,
      "outputs": [
        {
          "output_type": "execute_result",
          "data": {
            "text/plain": [
              "['Aaron', 'Becky']"
            ]
          },
          "metadata": {},
          "execution_count": 9
        }
      ]
    },
    {
      "cell_type": "code",
      "source": [
        "# Run this cell!\n",
        "\n",
        "friends[:2]"
      ],
      "metadata": {
        "id": "Rkly9IHWmAWq",
        "colab": {
          "base_uri": "https://localhost:8080/"
        },
        "outputId": "d7b20bbb-a69b-460a-ea40-051ed9b73923"
      },
      "execution_count": 10,
      "outputs": [
        {
          "output_type": "execute_result",
          "data": {
            "text/plain": [
              "['Aaron', 'Becky']"
            ]
          },
          "metadata": {},
          "execution_count": 10
        }
      ]
    },
    {
      "cell_type": "code",
      "source": [
        "# Run this cell!\n",
        "\n",
        "friends[1:]"
      ],
      "metadata": {
        "id": "YQfrmBbOH1Tr",
        "colab": {
          "base_uri": "https://localhost:8080/"
        },
        "outputId": "75b078d7-d7de-4241-a025-9bdc4f425b5e"
      },
      "execution_count": 11,
      "outputs": [
        {
          "output_type": "execute_result",
          "data": {
            "text/plain": [
              "['Becky', 'Chad', 'Dustin', 'Eric']"
            ]
          },
          "metadata": {},
          "execution_count": 11
        }
      ]
    },
    {
      "cell_type": "code",
      "source": [
        "# Run this cell!\n",
        "\n",
        "friends[::]"
      ],
      "metadata": {
        "id": "_l4qpakjM-bu",
        "colab": {
          "base_uri": "https://localhost:8080/"
        },
        "outputId": "9732ef46-674b-482a-8c47-592c4b10f26d"
      },
      "execution_count": 12,
      "outputs": [
        {
          "output_type": "execute_result",
          "data": {
            "text/plain": [
              "['Aaron', 'Becky', 'Chad', 'Dustin', 'Eric']"
            ]
          },
          "metadata": {},
          "execution_count": 12
        }
      ]
    },
    {
      "cell_type": "code",
      "source": [
        "# Run this cell!\n",
        "\n",
        "friends[1:4:2]"
      ],
      "metadata": {
        "id": "guw6iducM5XJ",
        "colab": {
          "base_uri": "https://localhost:8080/"
        },
        "outputId": "dcd5af2b-ae89-41b5-9234-e638ce6eb649"
      },
      "execution_count": 13,
      "outputs": [
        {
          "output_type": "execute_result",
          "data": {
            "text/plain": [
              "['Becky', 'Dustin']"
            ]
          },
          "metadata": {},
          "execution_count": 13
        }
      ]
    },
    {
      "cell_type": "code",
      "source": [
        "# Run this cell!\n",
        "\n",
        "friends[::-1]"
      ],
      "metadata": {
        "id": "NLr4Upz9H1PW",
        "colab": {
          "base_uri": "https://localhost:8080/"
        },
        "outputId": "8e56f923-dc94-4afe-d309-39ca158402a8"
      },
      "execution_count": 14,
      "outputs": [
        {
          "output_type": "execute_result",
          "data": {
            "text/plain": [
              "['Eric', 'Dustin', 'Chad', 'Becky', 'Aaron']"
            ]
          },
          "metadata": {},
          "execution_count": 14
        }
      ]
    },
    {
      "cell_type": "markdown",
      "source": [
        "## **🛝 Practice Playground** - Section 2\n",
        "Lists in Python are dynamic arrays that can easily be modified. This flexibility is a significant advantage when managing collections of data where modifications are frequent. Whether you're adding elements, removing them, or altering existing entries, Python lists offer a range of methods to handle these operations efficiently. This section will guide you through various techniques to modify lists, illustrating how to effectively utilize Python's capabilities to manipulate list contents. We’ll explore adding, removing, and altering elements, ensuring you have a comprehensive understanding of how to interact with list data dynamically."
      ],
      "metadata": {
        "id": "ymC_eEixVkuW"
      }
    },
    {
      "cell_type": "code",
      "source": [
        "# Run this cell!\n",
        "\n",
        "# This modifies the list in place, and therefore does not return the updated list as an output.\n",
        "\n",
        "friends.append(\"Katie\")"
      ],
      "metadata": {
        "id": "i871jVSQtfuw"
      },
      "execution_count": 15,
      "outputs": []
    },
    {
      "cell_type": "code",
      "source": [
        "# Run this cell!\n",
        "\n",
        "# To see the updated list, simply run the cell containing friends after making\n",
        "# changes. This will display the current state of the list.\n",
        "\n",
        "friends"
      ],
      "metadata": {
        "id": "N6KpyYfBWEY5",
        "colab": {
          "base_uri": "https://localhost:8080/"
        },
        "outputId": "db0145b9-befa-4bd2-bb9e-c74ab86457e8"
      },
      "execution_count": 16,
      "outputs": [
        {
          "output_type": "execute_result",
          "data": {
            "text/plain": [
              "['Aaron', 'Becky', 'Chad', 'Dustin', 'Eric', 'Katie']"
            ]
          },
          "metadata": {},
          "execution_count": 16
        }
      ]
    },
    {
      "cell_type": "code",
      "source": [
        "# Run this cell!\n",
        "\n",
        "# This modifies the list in place, and therefore does not return the updated list as an output.\n",
        "\n",
        "friends.insert(1, \"Jennifer\")"
      ],
      "metadata": {
        "id": "6-YXKtt4qPXV"
      },
      "execution_count": 17,
      "outputs": []
    },
    {
      "cell_type": "code",
      "source": [
        "# Run this cell!\n",
        "\n",
        "# To see the updated list, simply run the cell containing friends after making\n",
        "# changes. This will display the current state of the list.\n",
        "\n",
        "friends"
      ],
      "metadata": {
        "id": "SpLtyXqgWO34",
        "colab": {
          "base_uri": "https://localhost:8080/"
        },
        "outputId": "3b1c49fb-f09e-494b-dab3-6300d56a8391"
      },
      "execution_count": 18,
      "outputs": [
        {
          "output_type": "execute_result",
          "data": {
            "text/plain": [
              "['Aaron', 'Jennifer', 'Becky', 'Chad', 'Dustin', 'Eric', 'Katie']"
            ]
          },
          "metadata": {},
          "execution_count": 18
        }
      ]
    },
    {
      "cell_type": "code",
      "source": [
        "# Run this cell!\n",
        "\n",
        "friends[0] = \"Kevin\""
      ],
      "metadata": {
        "id": "ushO_KDXa8TW"
      },
      "execution_count": 19,
      "outputs": []
    },
    {
      "cell_type": "code",
      "source": [
        "# Run this cell!\n",
        "\n",
        "# To see the updated list, simply run the cell containing friends after making\n",
        "# changes. This will display the current state of the list.\n",
        "\n",
        "friends"
      ],
      "metadata": {
        "id": "qD26ys8Xa-xj",
        "colab": {
          "base_uri": "https://localhost:8080/"
        },
        "outputId": "e348325c-9e6c-418c-bea7-6a4f00aad540"
      },
      "execution_count": 20,
      "outputs": [
        {
          "output_type": "execute_result",
          "data": {
            "text/plain": [
              "['Kevin', 'Jennifer', 'Becky', 'Chad', 'Dustin', 'Eric', 'Katie']"
            ]
          },
          "metadata": {},
          "execution_count": 20
        }
      ]
    },
    {
      "cell_type": "code",
      "source": [
        "# Run this cell!\n",
        "\n",
        "# This modifies the list in place, and therefore does not return the updated list as an output.\n",
        "\n",
        "\n",
        "friends.remove(\"Katie\")"
      ],
      "metadata": {
        "id": "d3W3xKqBqJtb"
      },
      "execution_count": 21,
      "outputs": []
    },
    {
      "cell_type": "code",
      "source": [
        "# Run this cell!\n",
        "\n",
        "# To see the updated list, simply run the cell containing friends after making\n",
        "# changes. This will display the current state of the list.\n",
        "\n",
        "friends"
      ],
      "metadata": {
        "id": "gHhlRsGWYMJf",
        "colab": {
          "base_uri": "https://localhost:8080/"
        },
        "outputId": "3c3295ee-6652-4366-a486-c500c2fb393a"
      },
      "execution_count": 22,
      "outputs": [
        {
          "output_type": "execute_result",
          "data": {
            "text/plain": [
              "['Kevin', 'Jennifer', 'Becky', 'Chad', 'Dustin', 'Eric']"
            ]
          },
          "metadata": {},
          "execution_count": 22
        }
      ]
    },
    {
      "cell_type": "markdown",
      "source": [
        "---"
      ],
      "metadata": {
        "id": "ysRhcsKft27B"
      }
    },
    {
      "cell_type": "markdown",
      "metadata": {
        "id": "gqQArSbM6BdE"
      },
      "source": [
        "## **🛝 Practice Playground** - Section 3\n",
        "Lists are one of the most versatile data structures in Python, equipped with a multitude of methods for manipulating their contents. Understanding these methods can significantly enhance your ability to work with lists effectively! You have seen some of these methods previously, but this section will explore the key methods for list manipulation, providing detailed examples to illustrate their use in real-world scenarios."
      ]
    },
    {
      "cell_type": "code",
      "source": [
        "# Run this cell!\n",
        "\n",
        "colors = ['red', 'blue', 'green']"
      ],
      "metadata": {
        "id": "LholcXPzb-Yl"
      },
      "execution_count": 23,
      "outputs": []
    },
    {
      "cell_type": "code",
      "source": [
        "# Run this cell!\n",
        "\n",
        "colors.append('yellow')"
      ],
      "metadata": {
        "id": "jiaSzKv5hZey"
      },
      "execution_count": 24,
      "outputs": []
    },
    {
      "cell_type": "code",
      "source": [
        "# Run this cell!\n",
        "\n",
        "# To see the updated list, simply run the cell containing colors after making\n",
        "# changes. This will display the current state of the list.\n",
        "\n",
        "colors"
      ],
      "metadata": {
        "id": "pfJGuGnscDVr",
        "colab": {
          "base_uri": "https://localhost:8080/"
        },
        "outputId": "a0537dc7-b4be-4b3b-99b3-23f7c1cd759a"
      },
      "execution_count": 25,
      "outputs": [
        {
          "output_type": "execute_result",
          "data": {
            "text/plain": [
              "['red', 'blue', 'green', 'yellow']"
            ]
          },
          "metadata": {},
          "execution_count": 25
        }
      ]
    },
    {
      "cell_type": "code",
      "source": [
        "# Run this cell!\n",
        "\n",
        "more_colors = ['orange', 'purple']\n",
        "colors.extend(more_colors)"
      ],
      "metadata": {
        "id": "mkwRdMHGb-Wb"
      },
      "execution_count": 26,
      "outputs": []
    },
    {
      "cell_type": "code",
      "source": [
        "# Run this cell!\n",
        "\n",
        "# To see the updated list, simply run the cell containing colors after making\n",
        "# changes. This will display the current state of the list.\n",
        "\n",
        "colors"
      ],
      "metadata": {
        "id": "QI0_d8tjb-Ua",
        "colab": {
          "base_uri": "https://localhost:8080/"
        },
        "outputId": "4de1c398-4ece-48f3-cffe-3c4195de5e04"
      },
      "execution_count": 27,
      "outputs": [
        {
          "output_type": "execute_result",
          "data": {
            "text/plain": [
              "['red', 'blue', 'green', 'yellow', 'orange', 'purple']"
            ]
          },
          "metadata": {},
          "execution_count": 27
        }
      ]
    },
    {
      "cell_type": "code",
      "source": [
        "# Run this cell!\n",
        "\n",
        "colors.insert(3, 'black')"
      ],
      "metadata": {
        "id": "AJjnNH7Fb-Sh"
      },
      "execution_count": 28,
      "outputs": []
    },
    {
      "cell_type": "code",
      "source": [
        "# Run this cell!\n",
        "\n",
        "# To see the updated list, simply run the cell containing colors after making\n",
        "# changes. This will display the current state of the list.\n",
        "\n",
        "colors"
      ],
      "metadata": {
        "id": "6U8FtiZub-Qd",
        "colab": {
          "base_uri": "https://localhost:8080/"
        },
        "outputId": "78bb9891-4569-43b2-9fcb-58c187c50061"
      },
      "execution_count": 29,
      "outputs": [
        {
          "output_type": "execute_result",
          "data": {
            "text/plain": [
              "['red', 'blue', 'green', 'black', 'yellow', 'orange', 'purple']"
            ]
          },
          "metadata": {},
          "execution_count": 29
        }
      ]
    },
    {
      "cell_type": "code",
      "source": [
        "# Run this cell!\n",
        "\n",
        "colors.remove('black')"
      ],
      "metadata": {
        "id": "4_SfH5gEb-OQ"
      },
      "execution_count": 30,
      "outputs": []
    },
    {
      "cell_type": "code",
      "source": [
        "# Run this cell!\n",
        "\n",
        "# To see the updated list, simply run the cell containing colors after making\n",
        "# changes. This will display the current state of the list.\n",
        "\n",
        "colors"
      ],
      "metadata": {
        "id": "GJwMamxzdHJq",
        "colab": {
          "base_uri": "https://localhost:8080/"
        },
        "outputId": "aa5fa292-8f2d-4478-c3f4-ead43a491b46"
      },
      "execution_count": 31,
      "outputs": [
        {
          "output_type": "execute_result",
          "data": {
            "text/plain": [
              "['red', 'blue', 'green', 'yellow', 'orange', 'purple']"
            ]
          },
          "metadata": {},
          "execution_count": 31
        }
      ]
    },
    {
      "cell_type": "code",
      "source": [
        "# Run this cell!\n",
        "\n",
        "colors.index('purple')"
      ],
      "metadata": {
        "id": "UeX5_ATZb-Lt",
        "colab": {
          "base_uri": "https://localhost:8080/"
        },
        "outputId": "c83ee0ff-ecab-45c2-ee52-82f234b9d619"
      },
      "execution_count": 32,
      "outputs": [
        {
          "output_type": "execute_result",
          "data": {
            "text/plain": [
              "5"
            ]
          },
          "metadata": {},
          "execution_count": 32
        }
      ]
    },
    {
      "cell_type": "code",
      "source": [
        "# Run this cell!\n",
        "\n",
        "colors.count('blue')"
      ],
      "metadata": {
        "id": "31Ldf19qcN3F",
        "colab": {
          "base_uri": "https://localhost:8080/"
        },
        "outputId": "89de6057-9238-496c-9bdd-92a9e608271c"
      },
      "execution_count": 33,
      "outputs": [
        {
          "output_type": "execute_result",
          "data": {
            "text/plain": [
              "1"
            ]
          },
          "metadata": {},
          "execution_count": 33
        }
      ]
    },
    {
      "cell_type": "code",
      "source": [
        "# Run this cell!\n",
        "\n",
        "colors.append('blue')"
      ],
      "metadata": {
        "id": "jAJ9K2GKhjfs"
      },
      "execution_count": 34,
      "outputs": []
    },
    {
      "cell_type": "code",
      "source": [
        "# Run this cell!\n",
        "\n",
        "colors"
      ],
      "metadata": {
        "id": "tVOiTiMshmFE",
        "colab": {
          "base_uri": "https://localhost:8080/"
        },
        "outputId": "9101b1f8-3bc5-4008-cc8e-119c6b6061ed"
      },
      "execution_count": 35,
      "outputs": [
        {
          "output_type": "execute_result",
          "data": {
            "text/plain": [
              "['red', 'blue', 'green', 'yellow', 'orange', 'purple', 'blue']"
            ]
          },
          "metadata": {},
          "execution_count": 35
        }
      ]
    },
    {
      "cell_type": "code",
      "source": [
        "# Run this cell!\n",
        "\n",
        "colors.count('blue')"
      ],
      "metadata": {
        "id": "SlkyFC92hnWA",
        "colab": {
          "base_uri": "https://localhost:8080/"
        },
        "outputId": "64ad7fa1-6dc1-4b3f-f5c0-2414bebf07bf"
      },
      "execution_count": 36,
      "outputs": [
        {
          "output_type": "execute_result",
          "data": {
            "text/plain": [
              "2"
            ]
          },
          "metadata": {},
          "execution_count": 36
        }
      ]
    },
    {
      "cell_type": "code",
      "source": [
        "# Run this cell!\n",
        "\n",
        "numbers = [3, 1, 4, 1, 5, 9, 2]"
      ],
      "metadata": {
        "id": "rcnDbhXhcNz8"
      },
      "execution_count": 37,
      "outputs": []
    },
    {
      "cell_type": "code",
      "source": [
        "# Run this cell!\n",
        "\n",
        "numbers.sort()"
      ],
      "metadata": {
        "id": "Jvi3VIswcS-T"
      },
      "execution_count": 38,
      "outputs": []
    },
    {
      "cell_type": "code",
      "source": [
        "# Run this cell!\n",
        "\n",
        "numbers"
      ],
      "metadata": {
        "id": "jVMcbMb3hz3i",
        "colab": {
          "base_uri": "https://localhost:8080/"
        },
        "outputId": "30b5dcc2-24a4-4421-bb08-073b271e147a"
      },
      "execution_count": 39,
      "outputs": [
        {
          "output_type": "execute_result",
          "data": {
            "text/plain": [
              "[1, 1, 2, 3, 4, 5, 9]"
            ]
          },
          "metadata": {},
          "execution_count": 39
        }
      ]
    },
    {
      "cell_type": "code",
      "source": [
        "# Run this cell!\n",
        "\n",
        "numbers.reverse()"
      ],
      "metadata": {
        "id": "QQiEtoO6cNvp"
      },
      "execution_count": 40,
      "outputs": []
    },
    {
      "cell_type": "code",
      "source": [
        "# Run this cell!\n",
        "\n",
        "numbers"
      ],
      "metadata": {
        "id": "J32XglMeh19o",
        "colab": {
          "base_uri": "https://localhost:8080/"
        },
        "outputId": "7764a9de-feba-49ee-bcee-c8de18a0808c"
      },
      "execution_count": 41,
      "outputs": [
        {
          "output_type": "execute_result",
          "data": {
            "text/plain": [
              "[9, 5, 4, 3, 2, 1, 1]"
            ]
          },
          "metadata": {},
          "execution_count": 41
        }
      ]
    },
    {
      "cell_type": "code",
      "source": [
        "# Run this cell!\n",
        "\n",
        "movies = ['Avatar', 'Interstellar', 'Se7en', 'Inception', 'Barbie']"
      ],
      "metadata": {
        "id": "7CtBvWJPcjk-"
      },
      "execution_count": 42,
      "outputs": []
    },
    {
      "cell_type": "code",
      "source": [
        "# Run this cell!\n",
        "\n",
        "len(movies)"
      ],
      "metadata": {
        "colab": {
          "base_uri": "https://localhost:8080/"
        },
        "id": "sxTTWQHUcji7",
        "outputId": "ca4e66ff-b05c-458b-dc34-480297c30ac7"
      },
      "execution_count": 43,
      "outputs": [
        {
          "output_type": "execute_result",
          "data": {
            "text/plain": [
              "5"
            ]
          },
          "metadata": {},
          "execution_count": 43
        }
      ]
    },
    {
      "cell_type": "code",
      "source": [
        "# Run this cell!\n",
        "\n",
        "exam_scores = [99, 80, 72, 50, 100, 98, 84, 83, 91, 75, 76, 63, 87, 90]"
      ],
      "metadata": {
        "id": "VSL_71QwdpPZ"
      },
      "execution_count": 44,
      "outputs": []
    },
    {
      "cell_type": "code",
      "source": [
        "# Run this cell!\n",
        "\n",
        "sorted_exam_scores = sorted(exam_scores)\n",
        "sorted_exam_scores"
      ],
      "metadata": {
        "id": "_LkdwZfZcjgd",
        "colab": {
          "base_uri": "https://localhost:8080/"
        },
        "outputId": "e0322778-0724-4dc3-deeb-064fca0d6806"
      },
      "execution_count": 45,
      "outputs": [
        {
          "output_type": "execute_result",
          "data": {
            "text/plain": [
              "[50, 63, 72, 75, 76, 80, 83, 84, 87, 90, 91, 98, 99, 100]"
            ]
          },
          "metadata": {},
          "execution_count": 45
        }
      ]
    },
    {
      "cell_type": "code",
      "source": [
        "# Run this cell!\n",
        "\n",
        "sum(exam_scores)"
      ],
      "metadata": {
        "id": "yMRZhqF9djht",
        "colab": {
          "base_uri": "https://localhost:8080/"
        },
        "outputId": "cfc71d9a-f7bc-4fa8-a187-616b3d73f074"
      },
      "execution_count": 46,
      "outputs": [
        {
          "output_type": "execute_result",
          "data": {
            "text/plain": [
              "1148"
            ]
          },
          "metadata": {},
          "execution_count": 46
        }
      ]
    },
    {
      "cell_type": "code",
      "source": [
        "# Run this cell!\n",
        "\n",
        "max(exam_scores)"
      ],
      "metadata": {
        "id": "rAoH88q3djfm",
        "colab": {
          "base_uri": "https://localhost:8080/"
        },
        "outputId": "afbfd4d1-a892-40dd-8204-bfd5148d3feb"
      },
      "execution_count": 47,
      "outputs": [
        {
          "output_type": "execute_result",
          "data": {
            "text/plain": [
              "100"
            ]
          },
          "metadata": {},
          "execution_count": 47
        }
      ]
    },
    {
      "cell_type": "code",
      "source": [
        "# Run this cell!\n",
        "\n",
        "min(exam_scores)"
      ],
      "metadata": {
        "id": "b_97QrFPf100",
        "colab": {
          "base_uri": "https://localhost:8080/"
        },
        "outputId": "5e9c3f6d-4fd9-4c52-fe82-08487bd05d7a"
      },
      "execution_count": 48,
      "outputs": [
        {
          "output_type": "execute_result",
          "data": {
            "text/plain": [
              "50"
            ]
          },
          "metadata": {},
          "execution_count": 48
        }
      ]
    },
    {
      "cell_type": "code",
      "source": [
        "# Run this cell!\n",
        "\n",
        "len(exam_scores)"
      ],
      "metadata": {
        "id": "HYwDb1Fnf_Ft",
        "colab": {
          "base_uri": "https://localhost:8080/"
        },
        "outputId": "de7447c4-ec25-4e79-f0b7-3b9536fe8398"
      },
      "execution_count": 49,
      "outputs": [
        {
          "output_type": "execute_result",
          "data": {
            "text/plain": [
              "14"
            ]
          },
          "metadata": {},
          "execution_count": 49
        }
      ]
    },
    {
      "cell_type": "code",
      "source": [
        "# Run this cell!\n",
        "\n",
        "average = sum(exam_scores) / len(exam_scores)\n",
        "average"
      ],
      "metadata": {
        "id": "ZuibVMNygArd"
      },
      "execution_count": null,
      "outputs": []
    },
    {
      "cell_type": "markdown",
      "source": [
        "## **🛝 Practice Playground** - Section 4\n",
        "\n",
        "Nested lists are a powerful feature in Python that allow you to create complex data structures, such as matrices or multi-dimensional arrays. Here’s a detailed look at how to work with a nested list, particularly how to access elements within inner lists."
      ],
      "metadata": {
        "id": "xcP6OwzZnd2s"
      }
    },
    {
      "cell_type": "code",
      "source": [
        "# Run this cell!\n",
        "\n",
        "nested_list = [1, [2, 3], [4, [5, 6]], 7]"
      ],
      "metadata": {
        "id": "fWeEjTMxnddR"
      },
      "execution_count": 50,
      "outputs": []
    },
    {
      "cell_type": "code",
      "source": [
        "# Run this cell!\n",
        "\n",
        "nested_list[2]"
      ],
      "metadata": {
        "id": "dZeenoKXnnRC",
        "colab": {
          "base_uri": "https://localhost:8080/"
        },
        "outputId": "2c31d939-1f71-468e-f89d-ca00bc75b9e9"
      },
      "execution_count": 51,
      "outputs": [
        {
          "output_type": "execute_result",
          "data": {
            "text/plain": [
              "[4, [5, 6]]"
            ]
          },
          "metadata": {},
          "execution_count": 51
        }
      ]
    },
    {
      "cell_type": "code",
      "source": [
        "# Run this cell!\n",
        "\n",
        "nested_list[2][1]"
      ],
      "metadata": {
        "id": "uqyg432LnpdA",
        "colab": {
          "base_uri": "https://localhost:8080/"
        },
        "outputId": "edc9c35b-0be4-45e6-9471-34e349715576"
      },
      "execution_count": 53,
      "outputs": [
        {
          "output_type": "execute_result",
          "data": {
            "text/plain": [
              "[5, 6]"
            ]
          },
          "metadata": {},
          "execution_count": 53
        }
      ]
    },
    {
      "cell_type": "code",
      "source": [
        "# Run this cell!\n",
        "\n",
        "nested_list[2][1][1]"
      ],
      "metadata": {
        "id": "DTOERilGnsKl",
        "colab": {
          "base_uri": "https://localhost:8080/"
        },
        "outputId": "958593a5-f264-489e-81ba-8a1a735f1aab"
      },
      "execution_count": 54,
      "outputs": [
        {
          "output_type": "execute_result",
          "data": {
            "text/plain": [
              "6"
            ]
          },
          "metadata": {},
          "execution_count": 54
        }
      ]
    }
  ],
  "metadata": {
    "anaconda-cloud": {},
    "colab": {
      "provenance": [],
      "include_colab_link": true
    },
    "kernelspec": {
      "display_name": "Python 3 (ipykernel)",
      "language": "python",
      "name": "python3"
    },
    "language_info": {
      "codemirror_mode": {
        "name": "ipython",
        "version": 3
      },
      "file_extension": ".py",
      "mimetype": "text/x-python",
      "name": "python",
      "nbconvert_exporter": "python",
      "pygments_lexer": "ipython3",
      "version": "3.11.7"
    }
  },
  "nbformat": 4,
  "nbformat_minor": 0
}