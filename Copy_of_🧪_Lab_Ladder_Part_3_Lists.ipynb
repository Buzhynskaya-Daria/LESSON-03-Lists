{
  "cells": [
    {
      "cell_type": "markdown",
      "metadata": {
        "id": "view-in-github",
        "colab_type": "text"
      },
      "source": [
        "<a href=\"https://colab.research.google.com/github/Buzhynskaya-Daria/LESSON-03-Lists/blob/main/Copy_of_%F0%9F%A7%AA_Lab_Ladder_Part_3_Lists.ipynb\" target=\"_parent\"><img src=\"https://colab.research.google.com/assets/colab-badge.svg\" alt=\"Open In Colab\"/></a>"
      ]
    },
    {
      "cell_type": "markdown",
      "metadata": {
        "id": "1xbyIYOxEjtO"
      },
      "source": [
        "<div>\n",
        "<img src=\"https://coursereport-s3-production.global.ssl.fastly.net/uploads/school/logo/219/original/CT_LOGO_NEW.jpg\" width=60>\n",
        "</div>\n",
        "\n",
        "# **Python Ladder Challenges - Lists**"
      ]
    },
    {
      "cell_type": "markdown",
      "metadata": {
        "id": "KnVBAM15EjtU"
      },
      "source": [
        "# Climb the Ladder!\n",
        "Welcome to Part 3 of our ladder! Our class moves quickly! Sometimes, it feels like we make leaps in logic that are a bit too big. Learn Python _slowly_, by doing many, many examples. Problems in this notebook start out easy and progressively get harder, so that the next rung of the Python ladder is always within reach."
      ]
    },
    {
      "cell_type": "markdown",
      "metadata": {
        "id": "erdXoou7Ejt0"
      },
      "source": [
        "# Section III: Lists"
      ]
    },
    {
      "cell_type": "markdown",
      "metadata": {
        "id": "NnygFMHwEjt0"
      },
      "source": [
        "25) Create a list `friends` of your three best friends, `\"Alice\"`, `\"Bob\"`, and `\"Charlie\"`."
      ]
    },
    {
      "cell_type": "code",
      "execution_count": 1,
      "metadata": {
        "id": "mgaCnQw5Ejt0"
      },
      "outputs": [],
      "source": [
        "friends = [\"Alice\", \"Bob\", \"Charlie\"]"
      ]
    },
    {
      "cell_type": "markdown",
      "metadata": {
        "id": "XQYw7iorEjt1"
      },
      "source": [
        "26) Find the length of `friends`."
      ]
    },
    {
      "cell_type": "code",
      "execution_count": 4,
      "metadata": {
        "id": "TS4BwnnKEjt1",
        "colab": {
          "base_uri": "https://localhost:8080/"
        },
        "outputId": "4db0bca6-1525-48ba-a155-b9f5d308d676"
      },
      "outputs": [
        {
          "output_type": "execute_result",
          "data": {
            "text/plain": [
              "3"
            ]
          },
          "metadata": {},
          "execution_count": 4
        }
      ],
      "source": [
        "friends = [\"Alice\", \"Bob\", \"Charlie\"]\n",
        "len(friends)"
      ]
    },
    {
      "cell_type": "markdown",
      "metadata": {
        "id": "w3aeOQfFEjt1"
      },
      "source": [
        "27) Add your new friend `\"Debbie\"` to your list of `friends`."
      ]
    },
    {
      "cell_type": "code",
      "execution_count": 5,
      "metadata": {
        "id": "o4eH_H6qEjt1",
        "colab": {
          "base_uri": "https://localhost:8080/"
        },
        "outputId": "d0318064-aea8-4c0c-9103-125071372e4c"
      },
      "outputs": [
        {
          "output_type": "stream",
          "name": "stdout",
          "text": [
            "['Alice', 'Bob', 'Charlie', 'Debbie']\n"
          ]
        }
      ],
      "source": [
        "friends = [\"Alice\", \"Bob\", \"Charlie\"]\n",
        "friends.append(\"Debbie\")\n",
        "print(friends)"
      ]
    },
    {
      "cell_type": "markdown",
      "metadata": {
        "id": "6z7I9o15Ejt2"
      },
      "source": [
        "28) Charlie said you had bad breath. Remove him from your `friends`."
      ]
    },
    {
      "cell_type": "code",
      "execution_count": 11,
      "metadata": {
        "id": "7gvqtPClEjt2",
        "colab": {
          "base_uri": "https://localhost:8080/"
        },
        "outputId": "7f1e6540-79d5-45da-f6c3-0234a1e12a8e"
      },
      "outputs": [
        {
          "output_type": "stream",
          "name": "stdout",
          "text": [
            "['Alice', 'Bob', 'Debbie']\n"
          ]
        }
      ],
      "source": [
        "friends = [\"Alice\", \"Bob\", \"Charlie\", \"Debbie\"]\n",
        "friends.remove(\"Charlie\")\n",
        "print(friends)"
      ]
    },
    {
      "cell_type": "markdown",
      "metadata": {
        "id": "U0_e2AUlEjt2"
      },
      "source": [
        "29) Using the `.join()` method, join `friends` to look like this _exactly_: `\"Alice & Bob & Debbie\"`"
      ]
    },
    {
      "cell_type": "code",
      "execution_count": 15,
      "metadata": {
        "id": "CppYjdaTEjt2",
        "colab": {
          "base_uri": "https://localhost:8080/"
        },
        "outputId": "fe930950-89c4-45bb-bcc2-774d61de4bab"
      },
      "outputs": [
        {
          "output_type": "stream",
          "name": "stdout",
          "text": [
            "Alice & Bob & Debbie\n"
          ]
        }
      ],
      "source": [
        "friends = [\"Alice\", \"Bob\", \"Debbie\"]\n",
        "joined_friends = \" & \".join(friends)\n",
        "print(joined_friends)"
      ]
    },
    {
      "cell_type": "markdown",
      "metadata": {
        "id": "9S6Q7e21Ejt2"
      },
      "source": [
        "30) What is the length of `[]`? What about `[[]]`? Why?"
      ]
    },
    {
      "cell_type": "code",
      "execution_count": 16,
      "metadata": {
        "id": "jyFSO9XKEjt2",
        "colab": {
          "base_uri": "https://localhost:8080/"
        },
        "outputId": "27266025-1d8e-4ee0-f05d-a81ce3f0be6f"
      },
      "outputs": [
        {
          "output_type": "execute_result",
          "data": {
            "text/plain": [
              "0"
            ]
          },
          "metadata": {},
          "execution_count": 16
        }
      ],
      "source": [
        "len([])"
      ]
    },
    {
      "cell_type": "code",
      "execution_count": 19,
      "metadata": {
        "id": "Blpde-q6Ejt3",
        "colab": {
          "base_uri": "https://localhost:8080/"
        },
        "outputId": "4097e9ab-8332-4ee6-d810-7883db0fba44"
      },
      "outputs": [
        {
          "output_type": "execute_result",
          "data": {
            "text/plain": [
              "1"
            ]
          },
          "metadata": {},
          "execution_count": 19
        }
      ],
      "source": [
        "len([[]])"
      ]
    },
    {
      "cell_type": "markdown",
      "metadata": {
        "id": "SJZ0tBK6Ejt3"
      },
      "source": [
        "For the next few problems, we'll use this list:"
      ]
    },
    {
      "cell_type": "code",
      "execution_count": 20,
      "metadata": {
        "id": "CXdHd355Ejt3"
      },
      "outputs": [],
      "source": [
        "nested_deep = [1, [2, 3], 4, [5, [6, 7, [8]]]]"
      ]
    },
    {
      "cell_type": "markdown",
      "metadata": {
        "id": "th9IcYG0Ejt4"
      },
      "source": [
        "31) What is the length of `nested_deep`?"
      ]
    },
    {
      "cell_type": "code",
      "execution_count": 21,
      "metadata": {
        "id": "f6koOLG-Ejt5",
        "colab": {
          "base_uri": "https://localhost:8080/"
        },
        "outputId": "9d358cee-fe8c-4463-b3b7-7c44fc670184"
      },
      "outputs": [
        {
          "output_type": "execute_result",
          "data": {
            "text/plain": [
              "4"
            ]
          },
          "metadata": {},
          "execution_count": 21
        }
      ],
      "source": [
        "len(nested_deep)"
      ]
    },
    {
      "cell_type": "markdown",
      "metadata": {
        "id": "oRrZ31liEjt5"
      },
      "source": [
        "32) Index `nested_deep` to get the 5."
      ]
    },
    {
      "cell_type": "code",
      "execution_count": 22,
      "metadata": {
        "id": "sQMf-EA2Ejt6",
        "colab": {
          "base_uri": "https://localhost:8080/"
        },
        "outputId": "591eaab5-b96b-4b4a-c74e-0a68cb30968c"
      },
      "outputs": [
        {
          "output_type": "stream",
          "name": "stdout",
          "text": [
            "5\n"
          ]
        }
      ],
      "source": [
        "index = nested_deep[3][0]\n",
        "print(index)"
      ]
    },
    {
      "cell_type": "markdown",
      "metadata": {
        "id": "49QJ40RdEjt6"
      },
      "source": [
        "33) Index `nested_deep` to get the 8.\n",
        "\n",
        "* _Hint:_ If your answer looks like `[8]`, that's not the correct answer!"
      ]
    },
    {
      "cell_type": "code",
      "execution_count": 23,
      "metadata": {
        "id": "PbDQhQ-CEjt6",
        "colab": {
          "base_uri": "https://localhost:8080/"
        },
        "outputId": "062d93e6-73a8-4813-9634-1ea6ace24a3c"
      },
      "outputs": [
        {
          "output_type": "stream",
          "name": "stdout",
          "text": [
            "8\n"
          ]
        }
      ],
      "source": [
        "index = nested_deep[3][1][2][0]\n",
        "print(index)"
      ]
    }
  ],
  "metadata": {
    "colab": {
      "provenance": [],
      "include_colab_link": true
    },
    "kernelspec": {
      "display_name": "Python 3",
      "language": "python",
      "name": "python3"
    },
    "language_info": {
      "codemirror_mode": {
        "name": "ipython",
        "version": 3
      },
      "file_extension": ".py",
      "mimetype": "text/x-python",
      "name": "python",
      "nbconvert_exporter": "python",
      "pygments_lexer": "ipython3",
      "version": "3.8.3"
    }
  },
  "nbformat": 4,
  "nbformat_minor": 0
}